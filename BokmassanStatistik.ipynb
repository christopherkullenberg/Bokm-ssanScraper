{
 "cells": [
  {
   "cell_type": "code",
   "execution_count": null,
   "metadata": {
    "collapsed": true
   },
   "outputs": [],
   "source": [
    "import csv\n",
    "from collections import Counter\n",
    "\n",
    "dafile = open('programbokmassan.csv')\n",
    "csvdata = csv.DictReader(dafile)\n",
    "\n",
    "arrangorlista = []\n",
    "temalista = []\n",
    "deltagarlista = []\n",
    "\n",
    "for row in csvdata:\n",
    "    arrangorlista.append(row['Arrangor'])\n",
    "    for tema in row['Tema'].split(\" / \"):\n",
    "        temalista.append(tema)\n",
    "    for name in row['Deltagare'].split(\", \"):\n",
    "        #print(name)\n",
    "        deltagarlista.append(name)"
   ]
  },
  {
   "cell_type": "code",
   "execution_count": null,
   "metadata": {
    "collapsed": false,
    "scrolled": true
   },
   "outputs": [],
   "source": [
    "for a in Counter(arrangorlista).most_common():\n",
    "    print(a[0] + \"\\t\" + str(a[1]))"
   ]
  },
  {
   "cell_type": "code",
   "execution_count": null,
   "metadata": {
    "collapsed": false
   },
   "outputs": [],
   "source": [
    "for a in Counter(temalista).most_common():\n",
    "    print(a[0] + \"\\t\" + str(a[1]))"
   ]
  },
  {
   "cell_type": "code",
   "execution_count": null,
   "metadata": {
    "collapsed": false
   },
   "outputs": [],
   "source": [
    "for a in Counter(deltagarlista).most_common():\n",
    "    print(a[0] + \"\\t\" + str(a[1]))"
   ]
  },
  {
   "cell_type": "code",
   "execution_count": null,
   "metadata": {
    "collapsed": true
   },
   "outputs": [],
   "source": []
  }
 ],
 "metadata": {
  "kernelspec": {
   "display_name": "IPython (Python 3)",
   "language": "python",
   "name": "python3"
  },
  "language_info": {
   "codemirror_mode": {
    "name": "ipython",
    "version": 3
   },
   "file_extension": ".py",
   "mimetype": "text/x-python",
   "name": "python",
   "nbconvert_exporter": "python",
   "pygments_lexer": "ipython3",
   "version": "3.5.2"
  }
 },
 "nbformat": 4,
 "nbformat_minor": 0
}
