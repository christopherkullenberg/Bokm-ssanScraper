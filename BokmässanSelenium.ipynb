{
 "cells": [
  {
   "cell_type": "code",
   "execution_count": null,
   "metadata": {
    "collapsed": false
   },
   "outputs": [],
   "source": [
    "# Please forgive the sloppy programming, this script was written on the fly. \n",
    "# Each cell will take some time to load all data from the remote site. Please be patient. \n",
    "\n",
    "import time\n",
    "from selenium import webdriver\n",
    "from selenium.webdriver.common.keys import Keys\n",
    "\n",
    "# Change browser accordingly# browser.get(\"https://bokmassan.se/for-besokare/program/arets-program/\")\n",
    "#browser = webdriver.Chrome()\n",
    "browser = webdriver.Firefox()\n",
    "\n",
    "theelements = []\n",
    "\n",
    "days = ['https://bokmassan.se/for-besokare/program/?program_date=20160922#program',\n",
    "       'https://bokmassan.se/for-besokare/program/?program_date=20160923#program',\n",
    "       'https://bokmassan.se/for-besokare/program/?program_date=20160924#program',\n",
    "       'https://bokmassan.se/for-besokare/program/?program_date=20160925#program']\n",
    "\n",
    "# this loop will iterate over all days of the Bokmässan and add the html body to the list theelements. \n",
    "for d in days: \n",
    "    browser.get(d)\n",
    "    time.sleep(1)\n",
    "\n",
    "    elem = browser.find_element_by_tag_name(\"body\")\n",
    "\n",
    "    no_of_pagedowns = 200\n",
    "\n",
    "    while no_of_pagedowns:\n",
    "        elem.send_keys(Keys.PAGE_DOWN)\n",
    "        time.sleep(0.2)\n",
    "        no_of_pagedowns-=1\n",
    "\n",
    "    # Get all the html source, it is easier to barse it with beautifulsoup below\n",
    "    # Be careful with printing post_elems, the browser might hangup. \n",
    "    post_elems = browser.page_source\n",
    "    theelements.append(post_elems)\n"
   ]
  },
  {
   "cell_type": "code",
   "execution_count": null,
   "metadata": {
    "collapsed": false
   },
   "outputs": [],
   "source": [
    "from bs4 import BeautifulSoup\n",
    "import urllib.request\n",
    "import re\n",
    "\n",
    "urllist = []\n",
    "\n",
    "#this will exctract all links to the individual programpunkter in the schedule and add to the list urllist. \n",
    "for t in theelements:\n",
    "    soup = BeautifulSoup(t, 'html.parser')\n",
    "    pubitems = soup.findAll({\"div\" : \"permalink\"})\n",
    "    for p in pubitems:\n",
    "        theurl = re.findall(r'(?<=permalink\\=\\\")(.*)(?=\\\" title)', str(p), re.IGNORECASE)\n",
    "        for t in theurl:\n",
    "            #print(t)\n",
    "            if t not in urllist:\n",
    "                urllist.append(t)"
   ]
  },
  {
   "cell_type": "code",
   "execution_count": null,
   "metadata": {
    "collapsed": false,
    "scrolled": true
   },
   "outputs": [],
   "source": [
    "import csv\n",
    "urlcounter = 0 \n",
    "programpunktcounter = 1\n",
    "datalist = []\n",
    "\n",
    "csvoutputfile = open(\"programbokmassan.csv\", 'w', encoding=\"utf-8\")\n",
    "fieldnames = ['Typ', 'Tema', 'Deltagare', 'Arrangor']\n",
    "writer = csv.DictWriter(csvoutputfile, fieldnames=fieldnames, quotechar='\"')\n",
    "writer.writeheader()\n",
    "\n",
    "for url in urllist:\n",
    "    urlcounter += 1\n",
    "    #print(\"Found URL \"+ str(urlcounter) + \"\\t\" + url)\n",
    "    with urllib.request.urlopen(url) as programpunkt:\n",
    "        html = programpunkt.read()\n",
    "        soup = BeautifulSoup(html, 'html.parser')\n",
    "        detaljer = soup.findAll(\"div\", { \"class\" : \"col-xs-12 col-md-3 programextra__right-column\" })\n",
    "        #print(detaljer[0])\n",
    "        datalist = detaljer[0].text.split('\\n')\n",
    "        #print(str(len(datalist)))\n",
    "        #print(datalist)\n",
    "        \n",
    "        # This will parse the data in all lenghts of lists. \n",
    "        for item in datalist:\n",
    "            #print(item)\n",
    "            #print(str(len(item)))\n",
    "            if \"Typ\" in datalist:\n",
    "                typindex = datalist.index(\"Typ\")\n",
    "                #print(datalist[typindex] + \"\\t\" + datalist[typindex + 1])\n",
    "                typdata = datalist[typindex + 1]\n",
    "            else:\n",
    "                typdata = \"\"   \n",
    "            if \"Tema\" in datalist:\n",
    "                temaindex = datalist.index(\"Tema\")\n",
    "                #print(datalist[temaindex] + \"\\t\" + datalist[temaindex + 1])\n",
    "                temadata = datalist[temaindex + 1]\n",
    "            else:\n",
    "                temadata = \"\"\n",
    "            if \"Deltagare\" in datalist:\n",
    "                deltagareindex = datalist.index(\"Deltagare\")\n",
    "                #print( datalist[deltagareindex] + \"\\t\" + datalist[deltagareindex + 1])\n",
    "                deltagaredata = datalist[deltagareindex + 1]\n",
    "            else:\n",
    "                deltagaredata = \"\"\n",
    "            if \"Arrangör\" in datalist:\n",
    "                arrangorindex = datalist.index(\"Arrangör\")\n",
    "                #print(datalist[arrangorindex] + \"\\t\" + datalist[arrangorindex + 1])\n",
    "                arrangordata = datalist[arrangorindex + 1]\n",
    "            else:\n",
    "                arrangordata = \"\"\n",
    "                \n",
    "    print(\"Typ: \" + typdata)\n",
    "    print(\"Tema: \" + temadata)\n",
    "    print(\"Deltagare: \" + deltagaredata)\n",
    "    print(\"Arrangör: \" + arrangordata)\n",
    "    writer.writerow({'Typ': typdata, 'Tema': temadata, 'Deltagare': deltagaredata, 'Arrangor': arrangordata})\n",
    "    print(\"Added entry \" + str(programpunktcounter) + \" to csv file.\")\n",
    "    programpunktcounter += 1\n",
    "    print(\"---\")\n",
    "csvoutputfile.close()\n"
   ]
  },
  {
   "cell_type": "code",
   "execution_count": null,
   "metadata": {
    "collapsed": true
   },
   "outputs": [],
   "source": []
  },
  {
   "cell_type": "code",
   "execution_count": null,
   "metadata": {
    "collapsed": true
   },
   "outputs": [],
   "source": []
  }
 ],
 "metadata": {
  "kernelspec": {
   "display_name": "IPython (Python 3)",
   "language": "python",
   "name": "python3"
  },
  "language_info": {
   "codemirror_mode": {
    "name": "ipython",
    "version": 3
   },
   "file_extension": ".py",
   "mimetype": "text/x-python",
   "name": "python",
   "nbconvert_exporter": "python",
   "pygments_lexer": "ipython3",
   "version": "3.5.2"
  }
 },
 "nbformat": 4,
 "nbformat_minor": 0
}
